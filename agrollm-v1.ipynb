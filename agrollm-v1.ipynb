{
 "cells": [
  {
   "cell_type": "code",
   "execution_count": 1,
   "metadata": {
    "_cell_guid": "b1076dfc-b9ad-4769-8c92-a6c4dae69d19",
    "_uuid": "8f2839f25d086af736a60e9eeb907d3b93b6e0e5",
    "execution": {
     "iopub.execute_input": "2025-08-19T06:38:11.609886Z",
     "iopub.status.busy": "2025-08-19T06:38:11.609245Z",
     "iopub.status.idle": "2025-08-19T06:39:38.234513Z",
     "shell.execute_reply": "2025-08-19T06:39:38.233806Z",
     "shell.execute_reply.started": "2025-08-19T06:38:11.609836Z"
    },
    "trusted": true
   },
   "outputs": [
    {
     "name": "stdout",
     "output_type": "stream",
     "text": [
      "\u001b[2K     \u001b[90m━━━━━━━━━━━━━━━━━━━━━━━━━━━━━━━━━━━━━━\u001b[0m \u001b[32m981.5/981.5 kB\u001b[0m \u001b[31m26.9 MB/s\u001b[0m eta \u001b[36m0:00:00\u001b[0m00:01\u001b[0m\n",
      "\u001b[?25h  Preparing metadata (setup.py) ... \u001b[?25l\u001b[?25hdone\n",
      "\u001b[2K   \u001b[90m━━━━━━━━━━━━━━━━━━━━━━━━━━━━━━━━━━━━━━━━\u001b[0m \u001b[32m2.5/2.5 MB\u001b[0m \u001b[31m77.4 MB/s\u001b[0m eta \u001b[36m0:00:00\u001b[0m\n",
      "\u001b[2K   \u001b[90m━━━━━━━━━━━━━━━━━━━━━━━━━━━━━━━━━━━━━━━━\u001b[0m \u001b[32m31.4/31.4 MB\u001b[0m \u001b[31m61.2 MB/s\u001b[0m eta \u001b[36m0:00:00\u001b[0m:00:01\u001b[0m00:01\u001b[0m\n",
      "\u001b[2K   \u001b[90m━━━━━━━━━━━━━━━━━━━━━━━━━━━━━━━━━━━━━━━━\u001b[0m \u001b[32m24.1/24.1 MB\u001b[0m \u001b[31m81.4 MB/s\u001b[0m eta \u001b[36m0:00:00\u001b[0m:00:01\u001b[0m00:01\u001b[0m\n",
      "\u001b[2K   \u001b[90m━━━━━━━━━━━━━━━━━━━━━━━━━━━━━━━━━━━━━━━━\u001b[0m \u001b[32m32.9/32.9 MB\u001b[0m \u001b[31m56.2 MB/s\u001b[0m eta \u001b[36m0:00:00\u001b[0m:00:01\u001b[0m00:01\u001b[0m\n",
      "\u001b[2K   \u001b[90m━━━━━━━━━━━━━━━━━━━━━━━━━━━━━━━━━━━━━━━━\u001b[0m \u001b[32m42.3/42.3 kB\u001b[0m \u001b[31m2.4 MB/s\u001b[0m eta \u001b[36m0:00:00\u001b[0m\n",
      "\u001b[2K   \u001b[90m━━━━━━━━━━━━━━━━━━━━━━━━━━━━━━━━━━━━━━━━\u001b[0m \u001b[32m561.5/561.5 kB\u001b[0m \u001b[31m32.4 MB/s\u001b[0m eta \u001b[36m0:00:00\u001b[0m\n",
      "\u001b[2K   \u001b[90m━━━━━━━━━━━━━━━━━━━━━━━━━━━━━━━━━━━━━━━━\u001b[0m \u001b[32m443.5/443.5 kB\u001b[0m \u001b[31m21.4 MB/s\u001b[0m eta \u001b[36m0:00:00\u001b[0m\n",
      "\u001b[2K   \u001b[90m━━━━━━━━━━━━━━━━━━━━━━━━━━━━━━━━━━━━━━━━\u001b[0m \u001b[32m45.2/45.2 kB\u001b[0m \u001b[31m2.7 MB/s\u001b[0m eta \u001b[36m0:00:00\u001b[0m\n",
      "\u001b[2K   \u001b[90m━━━━━━━━━━━━━━━━━━━━━━━━━━━━━━━━━━━━━━━━\u001b[0m \u001b[32m363.4/363.4 MB\u001b[0m \u001b[31m4.7 MB/s\u001b[0m eta \u001b[36m0:00:00\u001b[0m:00:01\u001b[0m00:01\u001b[0m\n",
      "\u001b[2K   \u001b[90m━━━━━━━━━━━━━━━━━━━━━━━━━━━━━━━━━━━━━━━━\u001b[0m \u001b[32m13.8/13.8 MB\u001b[0m \u001b[31m98.9 MB/s\u001b[0m eta \u001b[36m0:00:00\u001b[0m:00:01\u001b[0m0:01\u001b[0m\n",
      "\u001b[2K   \u001b[90m━━━━━━━━━━━━━━━━━━━━━━━━━━━━━━━━━━━━━━━━\u001b[0m \u001b[32m24.6/24.6 MB\u001b[0m \u001b[31m65.9 MB/s\u001b[0m eta \u001b[36m0:00:00\u001b[0m:00:01\u001b[0m00:01\u001b[0m\n",
      "\u001b[2K   \u001b[90m━━━━━━━━━━━━━━━━━━━━━━━━━━━━━━━━━━━━━━━━\u001b[0m \u001b[32m883.7/883.7 kB\u001b[0m \u001b[31m35.9 MB/s\u001b[0m eta \u001b[36m0:00:00\u001b[0m\n",
      "\u001b[2K   \u001b[90m━━━━━━━━━━━━━━━━━━━━━━━━━━━━━━━━━━━━━━━━\u001b[0m \u001b[32m664.8/664.8 MB\u001b[0m \u001b[31m2.5 MB/s\u001b[0m eta \u001b[36m0:00:00\u001b[0m:00:01\u001b[0m00:01\u001b[0m\n",
      "\u001b[2K   \u001b[90m━━━━━━━━━━━━━━━━━━━━━━━━━━━━━━━━━━━━━━━━\u001b[0m \u001b[32m211.5/211.5 MB\u001b[0m \u001b[31m5.2 MB/s\u001b[0m eta \u001b[36m0:00:00\u001b[0m:00:01\u001b[0m00:01\u001b[0m\n",
      "\u001b[2K   \u001b[90m━━━━━━━━━━━━━━━━━━━━━━━━━━━━━━━━━━━━━━━━\u001b[0m \u001b[32m56.3/56.3 MB\u001b[0m \u001b[31m29.7 MB/s\u001b[0m eta \u001b[36m0:00:00\u001b[0m:00:01\u001b[0m00:01\u001b[0m\n",
      "\u001b[2K   \u001b[90m━━━━━━━━━━━━━━━━━━━━━━━━━━━━━━━━━━━━━━━━\u001b[0m \u001b[32m127.9/127.9 MB\u001b[0m \u001b[31m13.1 MB/s\u001b[0m eta \u001b[36m0:00:00\u001b[0m00:01\u001b[0m00:01\u001b[0m\n",
      "\u001b[2K   \u001b[90m━━━━━━━━━━━━━━━━━━━━━━━━━━━━━━━━━━━━━━━━\u001b[0m \u001b[32m207.5/207.5 MB\u001b[0m \u001b[31m3.8 MB/s\u001b[0m eta \u001b[36m0:00:00\u001b[0m:00:01\u001b[0m00:01\u001b[0m\n",
      "\u001b[2K   \u001b[90m━━━━━━━━━━━━━━━━━━━━━━━━━━━━━━━━━━━━━━━━\u001b[0m \u001b[32m21.1/21.1 MB\u001b[0m \u001b[31m5.5 MB/s\u001b[0m eta \u001b[36m0:00:00\u001b[0m0:00:01\u001b[0m00:01\u001b[0m\n",
      "\u001b[?25h  Building wheel for langdetect (setup.py) ... \u001b[?25l\u001b[?25hdone\n",
      "\u001b[31mERROR: pip's dependency resolver does not currently take into account all the packages that are installed. This behaviour is the source of the following dependency conflicts.\n",
      "datasets 3.6.0 requires fsspec[http]<=2025.3.0,>=2023.1.0, but you have fsspec 2025.5.1 which is incompatible.\u001b[0m\u001b[31m\n",
      "\u001b[0m"
     ]
    }
   ],
   "source": [
    "!pip install -q gradio transformers accelerate langchain langchain-community faiss-cpu sentence-transformers pymupdf SpeechRecognition pyttsx3 deep_translator langdetect langchain_huggingface"
   ]
  },
  {
   "cell_type": "code",
   "execution_count": null,
   "metadata": {
    "execution": {
     "iopub.execute_input": "2025-08-12T15:00:22.315568Z",
     "iopub.status.busy": "2025-08-12T15:00:22.315312Z",
     "iopub.status.idle": "2025-08-12T15:01:25.315178Z",
     "shell.execute_reply": "2025-08-12T15:01:25.314481Z",
     "shell.execute_reply.started": "2025-08-12T15:00:22.315543Z"
    },
    "trusted": true
   },
   "outputs": [],
   "source": [
    "import os\n",
    "import pickle\n",
    "import torch\n",
    "from transformers import AutoTokenizer, AutoModelForCausalLM, pipeline\n",
    "from langchain_community.llms import HuggingFacePipeline\n",
    "from langchain.vectorstores import FAISS\n",
    "from langchain.document_loaders import PyMuPDFLoader\n",
    "from langchain.text_splitter import RecursiveCharacterTextSplitter\n",
    "from langchain.embeddings import HuggingFaceEmbeddings\n",
    "from langchain.chains import RetrievalQA\n",
    "\n",
    "# Paths\n",
    "DATA_FOLDER = \"/kaggle/input/agrollm-data/agrollm_dataset\"\n",
    "INDEX_DIR = \"/kaggle/working/AgroRAG/faiss_index\"\n",
    "CHUNKS_PATH = \"/kaggle/working/AgroRAG/chunks.pkl\"\n",
    "\n",
    "# 1. Load PDFs from subfolders\n",
    "def load_documents_from_folders(root_dir):\n",
    "    all_docs = []\n",
    "    for subdir, _, files in os.walk(root_dir):\n",
    "        for file in files:\n",
    "            if file.endswith(\".pdf\"):\n",
    "                path = os.path.join(subdir, file)\n",
    "                print(f\"Loading {path}...\")\n",
    "                loader = PyMuPDFLoader(path)\n",
    "                docs = loader.load()\n",
    "                for doc in docs:\n",
    "                    doc.metadata['source'] = path\n",
    "                    doc.metadata['topic'] = os.path.basename(subdir)\n",
    "                all_docs.extend(docs)\n",
    "    return all_docs\n",
    "\n",
    "# 2. Split text into chunks\n",
    "def split_documents(documents, chunk_size=500, chunk_overlap=50):\n",
    "    splitter = RecursiveCharacterTextSplitter(chunk_size=chunk_size, chunk_overlap=chunk_overlap)\n",
    "    return splitter.split_documents(documents)\n",
    "\n",
    "# 3. Embed and store\n",
    "def build_or_load_faiss_index(chunks, index_path=INDEX_DIR):\n",
    "    embedder = HuggingFaceEmbeddings(model_name=\"sentence-transformers/all-MiniLM-L6-v2\")\n",
    "    if os.path.exists(os.path.join(index_path, \"index.faiss\")):\n",
    "        print(\"Loading existing FAISS index...\")\n",
    "        return FAISS.load_local(index_path, embedder)\n",
    "    print(\"Creating new FAISS index...\")\n",
    "    vectordb = FAISS.from_documents(chunks, embedder)\n",
    "    os.makedirs(index_path, exist_ok=True)\n",
    "    vectordb.save_local(index_path)\n",
    "    return vectordb\n",
    "\n",
    "# 4. Load Mistral-7B-Instruct for Local RAG\n",
    "def load_local_llm():\n",
    "    model_id = \"mistralai/Mistral-7B-Instruct-v0.2\"\n",
    "    tokenizer = AutoTokenizer.from_pretrained(model_id)\n",
    "    model = AutoModelForCausalLM.from_pretrained(model_id, torch_dtype=torch.float16, device_map=\"auto\")\n",
    "    pipe = pipeline(\"text-generation\", model=model, tokenizer=tokenizer, max_new_tokens=512, temperature=0.7)\n",
    "    return HuggingFacePipeline(pipeline=pipe)\n",
    "\n",
    "# 5. RAG QA Chain with Local Model\n",
    "def run_qa_chain(vectorstore, question):\n",
    "    llm = load_local_llm()\n",
    "    retriever = vectorstore.as_retriever(search_type=\"similarity\", k=4)\n",
    "    qa = RetrievalQA.from_chain_type(llm=llm, retriever=retriever)\n",
    "    return qa.run(question)\n",
    "\n",
    "# Main Pipeline\n",
    "if __name__ == \"__main__\":\n",
    "    if os.path.exists(CHUNKS_PATH):\n",
    "        print(\"✅ Loading pre-saved chunks...\")\n",
    "        with open(CHUNKS_PATH, 'rb') as f:\n",
    "            chunks = pickle.load(f)\n",
    "    else:\n",
    "        print(\"📄 Loading and chunking documents...\")\n",
    "        docs = load_documents_from_folders(DATA_FOLDER)\n",
    "        chunks = split_documents(docs)\n",
    "        os.makedirs(os.path.dirname(CHUNKS_PATH), exist_ok=True)\n",
    "        with open(CHUNKS_PATH, 'wb') as f:\n",
    "            pickle.dump(chunks, f)\n",
    "\n",
    "    print(\"🧠 Building or loading FAISS index...\")\n",
    "    db = build_or_load_faiss_index(chunks)\n",
    "\n",
    "    print(\"\\n✅ Chunking and indexing complete. You can now use the inference script to ask questions.\")"
   ]
  },
  {
   "cell_type": "code",
   "execution_count": null,
   "metadata": {
    "execution": {
     "iopub.execute_input": "2025-08-19T06:39:45.290843Z",
     "iopub.status.busy": "2025-08-19T06:39:45.290166Z",
     "iopub.status.idle": "2025-08-19T06:43:20.322291Z",
     "shell.execute_reply": "2025-08-19T06:43:20.321555Z",
     "shell.execute_reply.started": "2025-08-19T06:39:45.290814Z"
    },
    "trusted": true
   },
   "outputs": [
    {
     "name": "stderr",
     "output_type": "stream",
     "text": [
      "2025-08-19 06:40:00.158049: E external/local_xla/xla/stream_executor/cuda/cuda_fft.cc:477] Unable to register cuFFT factory: Attempting to register factory for plugin cuFFT when one has already been registered\n",
      "WARNING: All log messages before absl::InitializeLog() is called are written to STDERR\n",
      "E0000 00:00:1755585600.336514      36 cuda_dnn.cc:8310] Unable to register cuDNN factory: Attempting to register factory for plugin cuDNN when one has already been registered\n",
      "E0000 00:00:1755585600.388213      36 cuda_blas.cc:1418] Unable to register cuBLAS factory: Attempting to register factory for plugin cuBLAS when one has already been registered\n",
      "Using a slow image processor as `use_fast` is unset and a slow processor was saved with this model. `use_fast=True` will be the default behavior in v4.52, even if the model was saved with a slow processor. This will result in minor differences in outputs. You'll still be able to use a slow processor with `use_fast=False`.\n"
     ]
    },
    {
     "name": "stdout",
     "output_type": "stream",
     "text": [
      "🚀 Initializing OPTIMIZED AgroRAG system with PURE LLM Classification, Conversational Memory, and Multilingual Support...\n",
      "Initializing speech recognition...\n",
      "✅ Speech Recognition initialized successfully\n",
      "Initializing optimized image models...\n",
      "Loading optimized BLIP model...\n"
     ]
    },
    {
     "data": {
      "application/vnd.jupyter.widget-view+json": {
       "model_id": "e16e6500bfda4f9194369302578741dc",
       "version_major": 2,
       "version_minor": 0
      },
      "text/plain": [
       "preprocessor_config.json:   0%|          | 0.00/287 [00:00<?, ?B/s]"
      ]
     },
     "metadata": {},
     "output_type": "display_data"
    },
    {
     "data": {
      "application/vnd.jupyter.widget-view+json": {
       "model_id": "68803044d5304e1aa95362d2f18f6e6f",
       "version_major": 2,
       "version_minor": 0
      },
      "text/plain": [
       "tokenizer_config.json:   0%|          | 0.00/506 [00:00<?, ?B/s]"
      ]
     },
     "metadata": {},
     "output_type": "display_data"
    },
    {
     "data": {
      "application/vnd.jupyter.widget-view+json": {
       "model_id": "ff2c7a3bdaf24ca9bd6e791d71f84c89",
       "version_major": 2,
       "version_minor": 0
      },
      "text/plain": [
       "vocab.txt: 0.00B [00:00, ?B/s]"
      ]
     },
     "metadata": {},
     "output_type": "display_data"
    },
    {
     "data": {
      "application/vnd.jupyter.widget-view+json": {
       "model_id": "0f95bd1b1fbf4a16a27600f5c7d9cae5",
       "version_major": 2,
       "version_minor": 0
      },
      "text/plain": [
       "tokenizer.json: 0.00B [00:00, ?B/s]"
      ]
     },
     "metadata": {},
     "output_type": "display_data"
    },
    {
     "data": {
      "application/vnd.jupyter.widget-view+json": {
       "model_id": "9651b70715eb4bf484a20f1d727b92b3",
       "version_major": 2,
       "version_minor": 0
      },
      "text/plain": [
       "special_tokens_map.json:   0%|          | 0.00/125 [00:00<?, ?B/s]"
      ]
     },
     "metadata": {},
     "output_type": "display_data"
    },
    {
     "data": {
      "application/vnd.jupyter.widget-view+json": {
       "model_id": "3c7b668a435a4ccbb0e80f212b5eeb16",
       "version_major": 2,
       "version_minor": 0
      },
      "text/plain": [
       "config.json: 0.00B [00:00, ?B/s]"
      ]
     },
     "metadata": {},
     "output_type": "display_data"
    },
    {
     "data": {
      "application/vnd.jupyter.widget-view+json": {
       "model_id": "f65860818c5b4ab794d38db8f833c93f",
       "version_major": 2,
       "version_minor": 0
      },
      "text/plain": [
       "pytorch_model.bin:   0%|          | 0.00/990M [00:00<?, ?B/s]"
      ]
     },
     "metadata": {},
     "output_type": "display_data"
    },
    {
     "data": {
      "application/vnd.jupyter.widget-view+json": {
       "model_id": "983364eac9df48b5bf38813134dc4a49",
       "version_major": 2,
       "version_minor": 0
      },
      "text/plain": [
       "model.safetensors:   0%|          | 0.00/990M [00:00<?, ?B/s]"
      ]
     },
     "metadata": {},
     "output_type": "display_data"
    },
    {
     "name": "stdout",
     "output_type": "stream",
     "text": [
      "✅ BLIP model loaded and optimized\n",
      "Loading crop disease ViT model...\n"
     ]
    },
    {
     "data": {
      "application/vnd.jupyter.widget-view+json": {
       "model_id": "99ed90c1443a40f1bb55aef527aa8ce9",
       "version_major": 2,
       "version_minor": 0
      },
      "text/plain": [
       "preprocessor_config.json:   0%|          | 0.00/325 [00:00<?, ?B/s]"
      ]
     },
     "metadata": {},
     "output_type": "display_data"
    },
    {
     "data": {
      "application/vnd.jupyter.widget-view+json": {
       "model_id": "c5d9c88ceab04385be66b8995e32862c",
       "version_major": 2,
       "version_minor": 0
      },
      "text/plain": [
       "config.json: 0.00B [00:00, ?B/s]"
      ]
     },
     "metadata": {},
     "output_type": "display_data"
    },
    {
     "data": {
      "application/vnd.jupyter.widget-view+json": {
       "model_id": "abef8501de7c485597dfd4e82d941537",
       "version_major": 2,
       "version_minor": 0
      },
      "text/plain": [
       "model.safetensors:   0%|          | 0.00/22.1M [00:00<?, ?B/s]"
      ]
     },
     "metadata": {},
     "output_type": "display_data"
    },
    {
     "name": "stdout",
     "output_type": "stream",
     "text": [
      "✅ ViT model loaded and optimized\n",
      "Initializing LLM-based classifier...\n",
      "✅ Using main Mistral 7B model for LLM-based classification (shared with QA)\n",
      "Loading optimized FAISS index...\n"
     ]
    },
    {
     "name": "stderr",
     "output_type": "stream",
     "text": [
      "/tmp/ipykernel_36/4284124900.py:564: LangChainDeprecationWarning: The class `HuggingFaceEmbeddings` was deprecated in LangChain 0.2.2 and will be removed in 1.0. An updated version of the class exists in the :class:`~langchain-huggingface package and should be used instead. To use it run `pip install -U :class:`~langchain-huggingface` and import as `from :class:`~langchain_huggingface import HuggingFaceEmbeddings``.\n",
      "  embedder = HuggingFaceEmbeddings(\n"
     ]
    },
    {
     "data": {
      "application/vnd.jupyter.widget-view+json": {
       "model_id": "fbdb78c7efb64f758abd2b77317106cb",
       "version_major": 2,
       "version_minor": 0
      },
      "text/plain": [
       "modules.json:   0%|          | 0.00/349 [00:00<?, ?B/s]"
      ]
     },
     "metadata": {},
     "output_type": "display_data"
    },
    {
     "data": {
      "application/vnd.jupyter.widget-view+json": {
       "model_id": "f73ffed384e9414faead624043c7616c",
       "version_major": 2,
       "version_minor": 0
      },
      "text/plain": [
       "config_sentence_transformers.json:   0%|          | 0.00/116 [00:00<?, ?B/s]"
      ]
     },
     "metadata": {},
     "output_type": "display_data"
    },
    {
     "data": {
      "application/vnd.jupyter.widget-view+json": {
       "model_id": "cf681429abe14550b95c52ac4ddd3927",
       "version_major": 2,
       "version_minor": 0
      },
      "text/plain": [
       "README.md: 0.00B [00:00, ?B/s]"
      ]
     },
     "metadata": {},
     "output_type": "display_data"
    },
    {
     "data": {
      "application/vnd.jupyter.widget-view+json": {
       "model_id": "545b85aa869b47ceb8106f41ba014fad",
       "version_major": 2,
       "version_minor": 0
      },
      "text/plain": [
       "sentence_bert_config.json:   0%|          | 0.00/53.0 [00:00<?, ?B/s]"
      ]
     },
     "metadata": {},
     "output_type": "display_data"
    },
    {
     "data": {
      "application/vnd.jupyter.widget-view+json": {
       "model_id": "44920259243a47089cf11ad13ede0430",
       "version_major": 2,
       "version_minor": 0
      },
      "text/plain": [
       "config.json:   0%|          | 0.00/612 [00:00<?, ?B/s]"
      ]
     },
     "metadata": {},
     "output_type": "display_data"
    },
    {
     "data": {
      "application/vnd.jupyter.widget-view+json": {
       "model_id": "7cf852dff07e45dc8a4bda5a20be2fbc",
       "version_major": 2,
       "version_minor": 0
      },
      "text/plain": [
       "model.safetensors:   0%|          | 0.00/90.9M [00:00<?, ?B/s]"
      ]
     },
     "metadata": {},
     "output_type": "display_data"
    },
    {
     "data": {
      "application/vnd.jupyter.widget-view+json": {
       "model_id": "5f4270e854e4465ca9bc7472e5674f68",
       "version_major": 2,
       "version_minor": 0
      },
      "text/plain": [
       "tokenizer_config.json:   0%|          | 0.00/350 [00:00<?, ?B/s]"
      ]
     },
     "metadata": {},
     "output_type": "display_data"
    },
    {
     "data": {
      "application/vnd.jupyter.widget-view+json": {
       "model_id": "45b10758af474dd385893572d356387a",
       "version_major": 2,
       "version_minor": 0
      },
      "text/plain": [
       "vocab.txt: 0.00B [00:00, ?B/s]"
      ]
     },
     "metadata": {},
     "output_type": "display_data"
    },
    {
     "data": {
      "application/vnd.jupyter.widget-view+json": {
       "model_id": "bf8b79d1390e43b2a5da6b219740c143",
       "version_major": 2,
       "version_minor": 0
      },
      "text/plain": [
       "tokenizer.json: 0.00B [00:00, ?B/s]"
      ]
     },
     "metadata": {},
     "output_type": "display_data"
    },
    {
     "data": {
      "application/vnd.jupyter.widget-view+json": {
       "model_id": "10bc16d1a4a24d898210c73a5f2d630a",
       "version_major": 2,
       "version_minor": 0
      },
      "text/plain": [
       "special_tokens_map.json:   0%|          | 0.00/112 [00:00<?, ?B/s]"
      ]
     },
     "metadata": {},
     "output_type": "display_data"
    },
    {
     "data": {
      "application/vnd.jupyter.widget-view+json": {
       "model_id": "05aa9f38d983499cbcd5bdf06bcde113",
       "version_major": 2,
       "version_minor": 0
      },
      "text/plain": [
       "config.json:   0%|          | 0.00/190 [00:00<?, ?B/s]"
      ]
     },
     "metadata": {},
     "output_type": "display_data"
    },
    {
     "name": "stdout",
     "output_type": "stream",
     "text": [
      "✅ FAISS vectorstore loaded with GPU embeddings\n",
      "Loading optimized Mistral model...\n"
     ]
    },
    {
     "data": {
      "application/vnd.jupyter.widget-view+json": {
       "model_id": "d741a5dd854740ea8ee49beefb8ac136",
       "version_major": 2,
       "version_minor": 0
      },
      "text/plain": [
       "tokenizer_config.json:   0%|          | 0.00/2.10k [00:00<?, ?B/s]"
      ]
     },
     "metadata": {},
     "output_type": "display_data"
    },
    {
     "data": {
      "application/vnd.jupyter.widget-view+json": {
       "model_id": "eee27195e8b0405a8625fb43523eb023",
       "version_major": 2,
       "version_minor": 0
      },
      "text/plain": [
       "tokenizer.model:   0%|          | 0.00/493k [00:00<?, ?B/s]"
      ]
     },
     "metadata": {},
     "output_type": "display_data"
    },
    {
     "data": {
      "application/vnd.jupyter.widget-view+json": {
       "model_id": "16e9d3a66ee54da28585b0f9ed4f4975",
       "version_major": 2,
       "version_minor": 0
      },
      "text/plain": [
       "tokenizer.json:   0%|          | 0.00/1.80M [00:00<?, ?B/s]"
      ]
     },
     "metadata": {},
     "output_type": "display_data"
    },
    {
     "data": {
      "application/vnd.jupyter.widget-view+json": {
       "model_id": "f18c51f5a5854609a0fcb6b3325b647e",
       "version_major": 2,
       "version_minor": 0
      },
      "text/plain": [
       "special_tokens_map.json:   0%|          | 0.00/414 [00:00<?, ?B/s]"
      ]
     },
     "metadata": {},
     "output_type": "display_data"
    },
    {
     "name": "stdout",
     "output_type": "stream",
     "text": [
      "Loading Mistral model with optimizations...\n"
     ]
    },
    {
     "data": {
      "application/vnd.jupyter.widget-view+json": {
       "model_id": "bca0d91377c34d0f86f3b9f589beecee",
       "version_major": 2,
       "version_minor": 0
      },
      "text/plain": [
       "config.json:   0%|          | 0.00/596 [00:00<?, ?B/s]"
      ]
     },
     "metadata": {},
     "output_type": "display_data"
    },
    {
     "data": {
      "application/vnd.jupyter.widget-view+json": {
       "model_id": "87e5053994de4747af18548b4c871f06",
       "version_major": 2,
       "version_minor": 0
      },
      "text/plain": [
       "model.safetensors.index.json:   0%|          | 0.00/25.1k [00:00<?, ?B/s]"
      ]
     },
     "metadata": {},
     "output_type": "display_data"
    },
    {
     "data": {
      "application/vnd.jupyter.widget-view+json": {
       "model_id": "196e46b43fa64246bae8da85cb409686",
       "version_major": 2,
       "version_minor": 0
      },
      "text/plain": [
       "Fetching 3 files:   0%|          | 0/3 [00:00<?, ?it/s]"
      ]
     },
     "metadata": {},
     "output_type": "display_data"
    },
    {
     "data": {
      "application/vnd.jupyter.widget-view+json": {
       "model_id": "2c771ab958bf4e45b247903a05d497d3",
       "version_major": 2,
       "version_minor": 0
      },
      "text/plain": [
       "model-00001-of-00003.safetensors:   0%|          | 0.00/4.94G [00:00<?, ?B/s]"
      ]
     },
     "metadata": {},
     "output_type": "display_data"
    },
    {
     "data": {
      "application/vnd.jupyter.widget-view+json": {
       "model_id": "e5e08484da284beea0db983fd90489d0",
       "version_major": 2,
       "version_minor": 0
      },
      "text/plain": [
       "model-00002-of-00003.safetensors:   0%|          | 0.00/5.00G [00:00<?, ?B/s]"
      ]
     },
     "metadata": {},
     "output_type": "display_data"
    },
    {
     "data": {
      "application/vnd.jupyter.widget-view+json": {
       "model_id": "424cea13b99b4b17be306c1663704b15",
       "version_major": 2,
       "version_minor": 0
      },
      "text/plain": [
       "model-00003-of-00003.safetensors:   0%|          | 0.00/4.54G [00:00<?, ?B/s]"
      ]
     },
     "metadata": {},
     "output_type": "display_data"
    },
    {
     "data": {
      "application/vnd.jupyter.widget-view+json": {
       "model_id": "d9986b3521e843b7865afc73b7646f14",
       "version_major": 2,
       "version_minor": 0
      },
      "text/plain": [
       "Loading checkpoint shards:   0%|          | 0/3 [00:00<?, ?it/s]"
      ]
     },
     "metadata": {},
     "output_type": "display_data"
    },
    {
     "data": {
      "application/vnd.jupyter.widget-view+json": {
       "model_id": "7390e27e815d4819bc4d3d6e004180d6",
       "version_major": 2,
       "version_minor": 0
      },
      "text/plain": [
       "generation_config.json:   0%|          | 0.00/111 [00:00<?, ?B/s]"
      ]
     },
     "metadata": {},
     "output_type": "display_data"
    },
    {
     "name": "stderr",
     "output_type": "stream",
     "text": [
      "Device set to use cuda:0\n",
      "The following generation flags are not valid and may be ignored: ['temperature']. Set `TRANSFORMERS_VERBOSITY=info` for more details.\n",
      "/tmp/ipykernel_36/4284124900.py:610: LangChainDeprecationWarning: The class `HuggingFacePipeline` was deprecated in LangChain 0.0.37 and will be removed in 1.0. An updated version of the class exists in the :class:`~langchain-huggingface package and should be used instead. To use it run `pip install -U :class:`~langchain-huggingface` and import as `from :class:`~langchain_huggingface import HuggingFacePipeline``.\n",
      "  llm = HuggingFacePipeline(pipeline=pipe)\n"
     ]
    },
    {
     "name": "stdout",
     "output_type": "stream",
     "text": [
      "🚀 OPTIMIZED System ready! Speech recognition, image analysis, conversational memory, interactive responses, and multilingual support initialized.\n",
      "Collecting pocketsphinx\n",
      "  Downloading pocketsphinx-5.0.4-cp311-cp311-manylinux_2_17_x86_64.manylinux2014_x86_64.whl.metadata (6.8 kB)\n",
      "Collecting sounddevice (from pocketsphinx)\n",
      "  Downloading sounddevice-0.5.2-py3-none-any.whl.metadata (1.6 kB)\n",
      "Requirement already satisfied: CFFI>=1.0 in /usr/local/lib/python3.11/dist-packages (from sounddevice->pocketsphinx) (1.17.1)\n",
      "Requirement already satisfied: pycparser in /usr/local/lib/python3.11/dist-packages (from CFFI>=1.0->sounddevice->pocketsphinx) (2.22)\n",
      "Downloading pocketsphinx-5.0.4-cp311-cp311-manylinux_2_17_x86_64.manylinux2014_x86_64.whl (29.2 MB)\n",
      "   ━━━━━━━━━━━━━━━━━━━━━━━━━━━━━━━━━━━━━━━━ 29.2/29.2 MB 40.1 MB/s eta 0:00:00\n",
      "Downloading sounddevice-0.5.2-py3-none-any.whl (32 kB)\n",
      "Installing collected packages: sounddevice, pocketsphinx\n",
      "Successfully installed pocketsphinx-5.0.4 sounddevice-0.5.2\n",
      "* Running on local URL:  http://0.0.0.0:7860\n",
      "* Running on public URL: https://d6525813249fd8b13e.gradio.live\n",
      "\n",
      "This share link expires in 1 week. For free permanent hosting and GPU upgrades, run `gradio deploy` from the terminal in the working directory to deploy to Hugging Face Spaces (https://huggingface.co/spaces)\n"
     ]
    },
    {
     "data": {
      "text/html": [
       "<div><iframe src=\"https://d6525813249fd8b13e.gradio.live\" width=\"100%\" height=\"500\" allow=\"autoplay; camera; microphone; clipboard-read; clipboard-write;\" frameborder=\"0\" allowfullscreen></iframe></div>"
      ],
      "text/plain": [
       "<IPython.core.display.HTML object>"
      ]
     },
     "metadata": {},
     "output_type": "display_data"
    },
    {
     "name": "stdout",
     "output_type": "stream",
     "text": [
      "🌍 Detected language: sw, translated to English for processing\n",
      "🎯 Interactive input detected\n",
      "🌍 Interactive response translated back to sw\n",
      "🌍 Detected language: fi, translated to English for processing\n",
      "🎯 Interactive input detected\n",
      "🌍 Interactive response translated back to fi\n",
      "🎯 Interactive input detected\n"
     ]
    },
    {
     "name": "stderr",
     "output_type": "stream",
     "text": [
      "The following generation flags are not valid and may be ignored: ['temperature']. Set `TRANSFORMERS_VERBOSITY=info` for more details.\n"
     ]
    },
    {
     "name": "stdout",
     "output_type": "stream",
     "text": [
      "🌍 Detected language: hi, translated to English for processing\n",
      "🔗 Relates to conversation history: False\n",
      "🧠 Using LLM to classify: 'What are the best irrigation techniques for vegeta...'\n",
      "🤖 LLM Classification result: YES. THE QUESTION\n",
      "✅ Final classification: True\n",
      "🤖 LLM Text-only classification: True\n",
      "🤖 Generating initial answer from RAG system...\n"
     ]
    },
    {
     "name": "stderr",
     "output_type": "stream",
     "text": [
      "/tmp/ipykernel_36/4284124900.py:863: LangChainDeprecationWarning: The method `Chain.run` was deprecated in langchain 0.1.0 and will be removed in 1.0. Use :meth:`~invoke` instead.\n",
      "  initial_result = qa_chain.run(full_context)\n",
      "The following generation flags are not valid and may be ignored: ['temperature']. Set `TRANSFORMERS_VERBOSITY=info` for more details.\n",
      "The following generation flags are not valid and may be ignored: ['temperature']. Set `TRANSFORMERS_VERBOSITY=info` for more details.\n"
     ]
    },
    {
     "name": "stdout",
     "output_type": "stream",
     "text": [
      "🔍 Reviewing and refining the answer...\n",
      "🔍 Reviewing and refining the initial answer...\n",
      "✅ Answer successfully reviewed and refined\n",
      "🌍 Final answer translated back to hi\n"
     ]
    },
    {
     "name": "stderr",
     "output_type": "stream",
     "text": [
      "The following generation flags are not valid and may be ignored: ['temperature']. Set `TRANSFORMERS_VERBOSITY=info` for more details.\n"
     ]
    },
    {
     "name": "stdout",
     "output_type": "stream",
     "text": [
      "🔗 Relates to conversation history: False\n",
      "🧠 Using LLM to classify: 'what is crop rotation...'\n"
     ]
    },
    {
     "name": "stderr",
     "output_type": "stream",
     "text": [
      "The following generation flags are not valid and may be ignored: ['temperature']. Set `TRANSFORMERS_VERBOSITY=info` for more details.\n"
     ]
    },
    {
     "name": "stdout",
     "output_type": "stream",
     "text": [
      "🤖 LLM Classification result: YES. CROP\n",
      "✅ Final classification: True\n",
      "🤖 LLM Text-only classification: True\n",
      "🤖 Generating initial answer from RAG system...\n"
     ]
    },
    {
     "name": "stderr",
     "output_type": "stream",
     "text": [
      "The following generation flags are not valid and may be ignored: ['temperature']. Set `TRANSFORMERS_VERBOSITY=info` for more details.\n"
     ]
    },
    {
     "name": "stdout",
     "output_type": "stream",
     "text": [
      "🔍 Reviewing and refining the answer...\n",
      "🔍 Reviewing and refining the initial answer...\n",
      "✅ Answer successfully reviewed and refined\n"
     ]
    }
   ],
   "source": [
    "import os\n",
    "import torch\n",
    "import gradio as gr\n",
    "from transformers import AutoTokenizer, AutoModelForCausalLM, pipeline\n",
    "from transformers import BlipProcessor, BlipForConditionalGeneration, ViTImageProcessor, ViTForImageClassification\n",
    "from langchain_community.llms import HuggingFacePipeline\n",
    "from langchain.vectorstores import FAISS\n",
    "from langchain.embeddings import HuggingFaceEmbeddings\n",
    "from langchain.chains import RetrievalQA\n",
    "from huggingface_hub import login\n",
    "import speech_recognition as sr\n",
    "import numpy as np\n",
    "from PIL import Image\n",
    "import gc\n",
    "import io\n",
    "import wave\n",
    "import tempfile\n",
    "import json\n",
    "from datetime import datetime\n",
    "\n",
    "# NEW: Multilingual imports\n",
    "import re\n",
    "import warnings\n",
    "from deep_translator import GoogleTranslator\n",
    "from langdetect import detect\n",
    "\n",
    "# Login to Hugging Face\n",
    "login(\"YOUR HUGGING FACE TOKEN\")\n",
    "\n",
    "# OPTIMIZATION: Set optimal GPU settings for P100\n",
    "torch.backends.cudnn.benchmark = True\n",
    "torch.backends.cuda.matmul.allow_tf32 = True\n",
    "torch.backends.cudnn.allow_tf32 = True\n",
    "\n",
    "# Global variables\n",
    "qa_chain = None\n",
    "classifier_pipeline = None\n",
    "your_llm_pipeline = None\n",
    "recognizer = sr.Recognizer()\n",
    "blip_model = None\n",
    "blip_processor = None\n",
    "vit_model = None\n",
    "vit_processor = None\n",
    "INDEX_PATH = \"/kaggle/working/AgroRAG/faiss_index\"\n",
    "\n",
    "# NEW: Global conversation history for session-based memory\n",
    "conversation_history = []\n",
    "MAX_HISTORY_LENGTH = 10  # Keep last 10 exchanges\n",
    "\n",
    "# NEW: Multilingual utility functions\n",
    "def detect_language(text):\n",
    "    \"\"\"Detect language of input text\"\"\"\n",
    "    try:\n",
    "        return detect(text)\n",
    "    except:\n",
    "        return 'en'  # Default to English if detection fails\n",
    "\n",
    "def translate_to_english(text):\n",
    "    \"\"\"Translate text to English if it's not already in English\"\"\"\n",
    "    lang = detect_language(text)\n",
    "    if lang == 'en':\n",
    "        return text, lang\n",
    "    try:\n",
    "        translated = GoogleTranslator(source=lang, target='en').translate(text)\n",
    "        return translated, lang\n",
    "    except:\n",
    "        return text, lang  # Return original if translation fails\n",
    "\n",
    "def translate_from_english(text, target_lang):\n",
    "    \"\"\"Translate text from English to target language\"\"\"\n",
    "    if target_lang == 'en':\n",
    "        return text\n",
    "    try:\n",
    "        return GoogleTranslator(source='en', target=target_lang).translate(text)\n",
    "    except:\n",
    "        return text  # Return original if translation fails\n",
    "\n",
    "def clean_answer(text):\n",
    "    \"\"\"Clean answer for better display\"\"\"\n",
    "    text = re.sub(r\"https?://\\S+\", \"\", text)             # remove URLs\n",
    "    text = re.sub(r\"\\[[^\\]]*\\]\", \"\", text)               # remove citations\n",
    "    text = re.sub(r\"\\([^)]*\\)\", \"\", text)                # remove parenthesis\n",
    "    text = re.sub(r\"\\bn\\d+\\b\", \"\", text)                 # remove n1/n2\n",
    "    text = re.sub(r\"\\s{2,}\", \" \", text)                  # remove extra spaces\n",
    "    return text.strip()\n",
    "\n",
    "def cleanup_memory():\n",
    "    \"\"\"Clean up GPU memory\"\"\"\n",
    "    if torch.cuda.is_available():\n",
    "        torch.cuda.empty_cache()\n",
    "    gc.collect()\n",
    "\n",
    "# NEW: Function to add conversation to history\n",
    "def add_to_history(user_input, bot_response, image_context=\"\", original_lang=\"en\"):\n",
    "    \"\"\"Add conversation exchange to history with language info\"\"\"\n",
    "    global conversation_history\n",
    "    \n",
    "    exchange = {\n",
    "        \"timestamp\": datetime.now().isoformat(),\n",
    "        \"user_input\": user_input,\n",
    "        \"bot_response\": bot_response,\n",
    "        \"image_context\": image_context,\n",
    "        \"language\": original_lang  # NEW: Track original language\n",
    "    }\n",
    "    \n",
    "    conversation_history.append(exchange)\n",
    "    \n",
    "    # Keep only recent history to manage memory\n",
    "    if len(conversation_history) > MAX_HISTORY_LENGTH:\n",
    "        conversation_history = conversation_history[-MAX_HISTORY_LENGTH:]\n",
    "\n",
    "# NEW: Function to get conversation context\n",
    "def get_conversation_context():\n",
    "    \"\"\"Get formatted conversation history for context\"\"\"\n",
    "    if not conversation_history:\n",
    "        return \"\"\n",
    "    \n",
    "    context = \"\\nRecent conversation history:\\n\"\n",
    "    for i, exchange in enumerate(conversation_history[-3:], 1):  # Last 3 exchanges\n",
    "        context += f\"{i}. User: {exchange['user_input']}\\n\"\n",
    "        context += f\"   Assistant: {exchange['bot_response'][:150]}...\\n\"\n",
    "        if exchange.get('image_context'):\n",
    "            context += f\"   Image: {exchange['image_context']}\\n\"\n",
    "    \n",
    "    return context\n",
    "\n",
    "# NEW: Function to check for interactive/greeting inputs\n",
    "def is_interactive_input(text):\n",
    "    \"\"\"Check if input is a greeting or interactive message\"\"\"\n",
    "    if not text or len(text.strip()) < 2:\n",
    "        return False\n",
    "    \n",
    "    text_lower = text.lower().strip()\n",
    "    \n",
    "    # Greeting patterns\n",
    "    greetings = [\n",
    "        'hi', 'hello', 'hey', 'good morning', 'good afternoon', 'good evening',\n",
    "        'greetings', 'howdy', 'hiya', 'sup', 'what\\'s up', 'whats up'\n",
    "    ]\n",
    "    \n",
    "    # Interactive patterns\n",
    "    interactive_patterns = [\n",
    "        'how are you', 'how do you do', 'nice to meet you', 'pleasure to meet you',\n",
    "        'thanks', 'thank you', 'bye', 'goodbye', 'see you', 'take care',\n",
    "        'help me', 'can you help', 'what can you do', 'what do you do'\n",
    "    ]\n",
    "    \n",
    "    # Check exact matches for greetings\n",
    "    if text_lower in greetings:\n",
    "        return True\n",
    "    \n",
    "    # Check if any interactive pattern is in the text\n",
    "    for pattern in interactive_patterns:\n",
    "        if pattern in text_lower:\n",
    "            return True\n",
    "    \n",
    "    return False\n",
    "\n",
    "# NEW: Function to generate interactive responses\n",
    "def generate_interactive_response(text):\n",
    "    \"\"\"Generate appropriate interactive response\"\"\"\n",
    "    text_lower = text.lower().strip()\n",
    "    \n",
    "    # Greeting responses\n",
    "    if any(greeting in text_lower for greeting in ['hi', 'hello', 'hey', 'good morning', 'good afternoon', 'good evening', 'greetings', 'howdy', 'hiya']):\n",
    "        responses = [\n",
    "            \"Hello! 👋 I'm your AgroRAG assistant, ready to help you with all your agriculture-related questions. How can I assist you today?\",\n",
    "            \"Hi there! 🌱 I'm here to help you with farming, crops, livestock, and all things agriculture. What would you like to know?\",\n",
    "            \"Greetings! 🚜 I'm your agricultural expert assistant. Feel free to ask me about crops, soil, pests, diseases, or any farming topics!\",\n",
    "            \"Hello! 🌾 Welcome to AgroRAG. I'm specialized in agriculture and farming advice. What agricultural topic can I help you with today?\"\n",
    "        ]\n",
    "        import random\n",
    "        return random.choice(responses)\n",
    "    \n",
    "    # How are you responses\n",
    "    elif any(phrase in text_lower for phrase in ['how are you', 'how do you do']):\n",
    "        return \"I'm doing great, thank you for asking! 😊 I'm ready and excited to help you with any agriculture-related questions. What farming or crop topic would you like to explore today?\"\n",
    "    \n",
    "    # Thank you responses\n",
    "    elif any(phrase in text_lower for phrase in ['thanks', 'thank you']):\n",
    "        return \"You're very welcome! 🌟 I'm always happy to help with agriculture and farming questions. Feel free to ask me anything else about crops, livestock, soil, or farming techniques!\"\n",
    "    \n",
    "    # Goodbye responses\n",
    "    elif any(phrase in text_lower for phrase in ['bye', 'goodbye', 'see you', 'take care']):\n",
    "        return \"Goodbye! 👋 Take care and happy farming! Feel free to come back anytime you have agriculture-related questions. Have a great day! 🌱\"\n",
    "    \n",
    "    # Help/capability responses\n",
    "    elif any(phrase in text_lower for phrase in ['help me', 'can you help', 'what can you do', 'what do you do']):\n",
    "        return \"\"\"I'm your specialized agriculture assistant! 🌾 Here's how I can help you:\n",
    "\n",
    "🌱 *Crop Management*: Planting, growing, harvesting advice\n",
    "🦠 *Disease & Pest Control*: Identification and treatment solutions  \n",
    "🌍 *Soil & Fertilization*: Soil health, nutrients, fertilizer recommendations\n",
    "💧 *Irrigation*: Water management and irrigation techniques\n",
    "🐄 *Livestock Care*: Animal husbandry and livestock management\n",
    "🌿 *Organic Farming*: Sustainable and organic farming practices\n",
    "🚜 *Equipment & Tools*: Agricultural machinery and tool guidance\n",
    "📊 *Farm Planning*: Crop rotation, seasonal planning, farm economics\n",
    "\n",
    "You can ask me questions, upload images of plants or crops for analysis, or even use voice input! What agricultural topic interests you today?\"\"\"\n",
    "    \n",
    "    # Default friendly response\n",
    "    else:\n",
    "        return \"Hello! 😊 I'm here to help you with agriculture and farming questions. Whether you want to know about crops, soil, livestock, or farming techniques, I'm ready to assist! What would you like to learn about today? 🌱\"\n",
    "\n",
    "# NEW: Function to check if question relates to conversation history\n",
    "def relates_to_conversation_history(current_input):\n",
    "    \"\"\"Check if current input relates to previous conversation\"\"\"\n",
    "    if not conversation_history:\n",
    "        return False, \"\"\n",
    "    \n",
    "    # Keywords that suggest reference to previous conversation\n",
    "    reference_keywords = [\n",
    "        'this', 'that', 'it', 'more about', 'tell me more', 'expand on',\n",
    "        'details about', 'explain further', 'what about', 'regarding',\n",
    "        'continue', 'elaborate', 'additional', 'furthermore'\n",
    "    ]\n",
    "    \n",
    "    current_lower = current_input.lower()\n",
    "    \n",
    "    # Check if any reference keywords are present\n",
    "    has_reference = any(keyword in current_lower for keyword in reference_keywords)\n",
    "    \n",
    "    if has_reference and len(conversation_history) > 0:\n",
    "        # Get the last exchange for context\n",
    "        last_exchange = conversation_history[-1]\n",
    "        context = f\"Previous question: {last_exchange['user_input']}\\nPrevious answer: {last_exchange['bot_response'][:200]}...\"\n",
    "        return True, context\n",
    "    \n",
    "    return False, \"\"\n",
    "\n",
    "def initialize_speech_recognition():\n",
    "    \"\"\"Initialize speech recognition\"\"\"\n",
    "    global recognizer\n",
    "    \n",
    "    try:\n",
    "        recognizer = sr.Recognizer()\n",
    "        # Adjust for ambient noise\n",
    "        recognizer.energy_threshold = 4000\n",
    "        recognizer.dynamic_energy_threshold = True\n",
    "        print(\"✅ Speech Recognition initialized successfully\")\n",
    "        return True\n",
    "        \n",
    "    except Exception as e:\n",
    "        print(f\"❌ Error initializing speech recognition: {e}\")\n",
    "        return False\n",
    "\n",
    "def initialize_image_models():\n",
    "    \"\"\"Initialize optimized image models\"\"\"\n",
    "    global blip_model, blip_processor, vit_model, vit_processor\n",
    "    \n",
    "    try:\n",
    "        print(\"Loading optimized BLIP model...\")\n",
    "        blip_model_id = \"Salesforce/blip-image-captioning-base\"\n",
    "        blip_processor = BlipProcessor.from_pretrained(blip_model_id)\n",
    "        blip_model = BlipForConditionalGeneration.from_pretrained(\n",
    "            blip_model_id,\n",
    "            torch_dtype=torch.float16,\n",
    "            device_map=\"cuda:0\"\n",
    "        ).eval()\n",
    "        print(\"✅ BLIP model loaded and optimized\")\n",
    "        \n",
    "        print(\"Loading crop disease ViT model...\")\n",
    "        vit_model_id = \"wambugu71/crop_leaf_diseases_vit\"\n",
    "        vit_processor = ViTImageProcessor.from_pretrained(vit_model_id)\n",
    "        vit_model = ViTForImageClassification.from_pretrained(\n",
    "            vit_model_id,\n",
    "            torch_dtype=torch.float16,\n",
    "            device_map=\"cuda:0\"\n",
    "        ).eval()\n",
    "        print(\"✅ ViT model loaded and optimized\")\n",
    "        \n",
    "        return True\n",
    "        \n",
    "    except Exception as e:\n",
    "        print(f\"❌ Failed to load image models: {e}\")\n",
    "        return False\n",
    "\n",
    "@torch.inference_mode()  # OPTIMIZATION: Disable gradient computation\n",
    "def analyze_uploaded_image(image):\n",
    "    \"\"\"OPTIMIZED image analysis with faster inference\"\"\"\n",
    "    global blip_model, blip_processor, vit_model, vit_processor\n",
    "    \n",
    "    if image is None:\n",
    "        return \"\", \"\"\n",
    "    \n",
    "    if blip_model is None or vit_model is None:\n",
    "        return \"Image models not initialized\", \"Unknown\"\n",
    "    \n",
    "    try:\n",
    "        # Ensure image is in PIL format and resize for faster processing\n",
    "        if not isinstance(image, Image.Image):\n",
    "            image = Image.fromarray(image).convert('RGB')\n",
    "        else:\n",
    "            image = image.convert('RGB')\n",
    "        \n",
    "        # OPTIMIZATION: Resize image to reduce processing time\n",
    "        image = image.resize((224, 224), Image.Resampling.LANCZOS)\n",
    "        \n",
    "        # BLIP Captioning with optimizations\n",
    "        blip_inputs = blip_processor(images=image, return_tensors=\"pt\")\n",
    "        blip_inputs = {k: v.to(\"cuda:0\", dtype=torch.float16) for k, v in blip_inputs.items()}\n",
    "        \n",
    "        caption_ids = blip_model.generate(\n",
    "            **blip_inputs, \n",
    "            max_new_tokens=20,  # Reduced from 30\n",
    "            num_beams=2,        # Reduced from default 5\n",
    "            do_sample=False,\n",
    "            early_stopping=True\n",
    "        )\n",
    "        caption = blip_processor.decode(caption_ids[0], skip_special_tokens=True)\n",
    "        \n",
    "        # ViT Classification with optimizations\n",
    "        vit_inputs = vit_processor(images=image, return_tensors=\"pt\")\n",
    "        vit_inputs = {k: v.to(\"cuda:0\", dtype=torch.float16) for k, v in vit_inputs.items()}\n",
    "        \n",
    "        outputs = vit_model(**vit_inputs)\n",
    "        label_idx = outputs.logits.argmax(-1).item()\n",
    "        label = vit_model.config.id2label[label_idx]\n",
    "        \n",
    "        print(f\"Fast analysis - Caption: {caption}, Disease: {label}\")\n",
    "        return caption, label\n",
    "        \n",
    "    except Exception as e:\n",
    "        print(f\"Error in image analysis: {e}\")\n",
    "        return \"Error analyzing image\", \"Error in classification\"\n",
    "\n",
    "def transcribe_audio(audio):\n",
    "    \"\"\"Audio transcription using speech_recognition library\"\"\"\n",
    "    global recognizer\n",
    "    \n",
    "    if recognizer is None:\n",
    "        return \"❌ Speech recognition not initialized\"\n",
    "    \n",
    "    if audio is None:\n",
    "        return \"❌ No audio provided\"\n",
    "    \n",
    "    try:\n",
    "        sample_rate, audio_data = audio\n",
    "        \n",
    "        # Convert numpy array to audio data that speech_recognition can use\n",
    "        if audio_data.dtype == np.int16:\n",
    "            audio_data = audio_data.astype(np.float32) / 32768.0\n",
    "        elif audio_data.dtype == np.int32:\n",
    "            audio_data = audio_data.astype(np.float32) / 2147483648.0\n",
    "        else:\n",
    "            audio_data = audio_data.astype(np.float32)\n",
    "        \n",
    "        # Convert to 16-bit PCM\n",
    "        audio_data = (audio_data * 32767).astype(np.int16)\n",
    "        \n",
    "        # Create a temporary wav file\n",
    "        with tempfile.NamedTemporaryFile(suffix=\".wav\", delete=False) as tmp_file:\n",
    "            # Write WAV file\n",
    "            with wave.open(tmp_file.name, 'wb') as wav_file:\n",
    "                wav_file.setnchannels(1 if len(audio_data.shape) == 1 else audio_data.shape[1])\n",
    "                wav_file.setsampwidth(2)  # 16-bit\n",
    "                wav_file.setframerate(sample_rate)\n",
    "                wav_file.writeframes(audio_data.tobytes())\n",
    "            \n",
    "            # Use speech_recognition to transcribe\n",
    "            with sr.AudioFile(tmp_file.name) as source:\n",
    "                # Adjust for ambient noise\n",
    "                recognizer.adjust_for_ambient_noise(source, duration=0.5)\n",
    "                audio = recognizer.record(source)\n",
    "                \n",
    "                try:\n",
    "                    # Use Google Web Speech API (free)\n",
    "                    text = recognizer.recognize_google(audio)\n",
    "                    return text\n",
    "                except sr.UnknownValueError:\n",
    "                    return \"❌ Could not understand audio\"\n",
    "                except sr.RequestError as e:\n",
    "                    # Fallback to offline recognition if available\n",
    "                    try:\n",
    "                        text = recognizer.recognize_sphinx(audio)\n",
    "                        return text\n",
    "                    except:\n",
    "                        return f\"❌ Speech recognition service error: {e}\"\n",
    "        \n",
    "        # Clean up temporary file\n",
    "        try:\n",
    "            os.unlink(tmp_file.name)\n",
    "        except:\n",
    "            pass\n",
    "            \n",
    "    except Exception as e:\n",
    "        print(f\"Error in transcription: {e}\")\n",
    "        return f\"❌ Error transcribing audio: {str(e)}\"\n",
    "\n",
    "def initialize_classifier():\n",
    "    \"\"\"Use the main Mistral model for classification\"\"\"\n",
    "    global classifier_pipeline\n",
    "    \n",
    "    print(\"✅ Using main Mistral 7B model for LLM-based classification (shared with QA)\")\n",
    "    # We'll use the same pipeline as the QA system for classification\n",
    "    classifier_pipeline = \"mistral_shared\"  # Flag to indicate we're using the shared model\n",
    "    return True \n",
    "\n",
    "def classify_question_with_llm(question, conversation_context=\"\"):\n",
    "    \"\"\"Pure LLM-based classification for accurate context understanding - MODIFIED to include conversation context\"\"\"\n",
    "    global your_llm_pipeline\n",
    "    \n",
    "    if your_llm_pipeline is None:\n",
    "        print(\"Warning: LLM not available for classification, defaulting to allow\")\n",
    "        return True  # Default to allowing questions when LLM not available\n",
    "    \n",
    "    try:\n",
    "        # Clean and prepare the question\n",
    "        question_clean = question.strip()\n",
    "        if len(question_clean) < 3:\n",
    "            return False\n",
    "        \n",
    "        # Create a detailed classification prompt for LLM - MODIFIED to include conversation context\n",
    "        classification_prompt = f\"\"\"<s>[INST] You are an expert agriculture classifier. Your task is to determine if the given question or statement is related to agriculture, farming, crops, livestock, plants, or rural/agricultural topics.\n",
    "\n",
    "AGRICULTURE-RELATED TOPICS INCLUDE:\n",
    "- Crop cultivation, planting, harvesting\n",
    "- Plant diseases, pests, plant health\n",
    "- Soil management, fertilizers, nutrients\n",
    "- Irrigation, water management\n",
    "- Livestock care, animal husbandry\n",
    "- Organic farming, sustainable agriculture\n",
    "- Agricultural tools, equipment, machinery\n",
    "- Farm management, agricultural economics\n",
    "- Plant biology, botany (in agricultural context)\n",
    "- Weather/climate effects on farming\n",
    "- Food production and processing\n",
    "- Gardening and horticulture\n",
    "\n",
    "NON-AGRICULTURE TOPICS INCLUDE:\n",
    "- General technology, computers, software\n",
    "- Medicine, human health (unless related to farm safety)\n",
    "- General science (unless agricultural science)\n",
    "- Entertainment, sports, politics\n",
    "- General education topics\n",
    "- Urban planning, city topics\n",
    "\n",
    "IMPORTANT: If the current question refers to previous conversation about agriculture (using words like \"this\", \"that\", \"more about it\", \"tell me more\", etc.), and the conversation history shows agriculture-related topics, then classify it as agriculture-related.\n",
    "\n",
    "{conversation_context}\n",
    "\n",
    "Current question to classify: \"{question_clean}\"\n",
    "\n",
    "Based on the question above and any conversation history, is this about agriculture, farming, plants, or related rural topics?\n",
    "\n",
    "Answer with only \"YES\" if it's agriculture-related, or \"NO\" if it's not agriculture-related.\n",
    "\n",
    "Classification: [/INST]\"\"\"\n",
    "\n",
    "        print(f\"🧠 Using LLM to classify: '{question_clean[:50]}...'\")\n",
    "        \n",
    "        # Get classification result from LLM\n",
    "        try:\n",
    "            result = your_llm_pipeline(\n",
    "                classification_prompt,\n",
    "                max_new_tokens=5,  # Just need YES/NO\n",
    "                do_sample=False,\n",
    "                temperature=0.1,\n",
    "                pad_token_id=your_llm_pipeline.tokenizer.eos_token_id\n",
    "            )\n",
    "            \n",
    "            if result and len(result) > 0:\n",
    "                response = result[0]['generated_text'].strip().upper()\n",
    "                print(f\"🤖 LLM Classification result: {response}\")\n",
    "                \n",
    "                # Check for positive indicators\n",
    "                is_agriculture = \"YES\" in response or \"AGRICULTURE\" in response or \"FARMING\" in response\n",
    "                print(f\"✅ Final classification: {is_agriculture}\")\n",
    "                return is_agriculture\n",
    "                        \n",
    "        except Exception as e:\n",
    "            print(f\"❌ LLM classification error: {e}\")\n",
    "            # If LLM fails, default to allowing (better user experience)\n",
    "            print(\"⚠ LLM classification failed, defaulting to ALLOW\")\n",
    "            return True\n",
    "        \n",
    "        # If we get here, something went wrong - default to allowing\n",
    "        return True\n",
    "        \n",
    "    except Exception as e:\n",
    "        print(f\"❌ Classification error: {e}\")\n",
    "        return True  # Default to allowing questions\n",
    "\n",
    "def classify_image_with_llm(image_caption, classification_label):\n",
    "    \"\"\"Pure LLM-based image classification\"\"\"\n",
    "    global your_llm_pipeline\n",
    "    \n",
    "    if your_llm_pipeline is None:\n",
    "        print(\"Warning: LLM not available for image classification, defaulting to allow\")\n",
    "        return True\n",
    "    \n",
    "    if not image_caption and not classification_label:\n",
    "        print(\"No image context available\")\n",
    "        return False\n",
    "    \n",
    "    try:\n",
    "        # Combine image analysis results\n",
    "        image_context = f\"Image caption: {image_caption}\\nImage classification: {classification_label}\"\n",
    "        \n",
    "        # Create LLM prompt for image classification\n",
    "        image_classification_prompt = f\"\"\"<s>[INST] You are an expert agriculture classifier analyzing image descriptions. Your task is to determine if the described image is related to agriculture, farming, crops, livestock, plants, or rural/agricultural topics.\n",
    "\n",
    "AGRICULTURE-RELATED IMAGES INCLUDE:\n",
    "- Plants, leaves, flowers, fruits, vegetables\n",
    "- Crops in fields, gardens, greenhouses  \n",
    "- Plant diseases, pests, plant health issues\n",
    "- Farm animals, livestock\n",
    "- Agricultural tools, machinery, equipment\n",
    "- Soil, farming landscapes, rural settings\n",
    "- Seeds, grains, harvest scenes\n",
    "- Botanical specimens in agricultural context\n",
    "\n",
    "NON-AGRICULTURE IMAGES INCLUDE:\n",
    "- Indoor objects, furniture, electronics\n",
    "- Urban scenes, buildings, roads\n",
    "- Prepared food, cooked meals, kitchen scenes\n",
    "- People in non-agricultural settings\n",
    "- Vehicles (unless farm equipment)\n",
    "- General household items\n",
    "- Technology devices, computers\n",
    "\n",
    "Image description to analyze:\n",
    "{image_context}\n",
    "\n",
    "Based on the image description above, does this image show agriculture, farming, plants, crops, or related rural content?\n",
    "\n",
    "Answer with only \"YES\" if it shows agriculture-related content, or \"NO\" if it does not.\n",
    "\n",
    "Classification: [/INST]\"\"\"\n",
    "\n",
    "        print(f\"🖼 Using LLM to classify image: {image_context[:100]}...\")\n",
    "        \n",
    "        try:\n",
    "            result = your_llm_pipeline(\n",
    "                image_classification_prompt,\n",
    "                max_new_tokens=5,\n",
    "                do_sample=False,\n",
    "                temperature=0.1,\n",
    "                pad_token_id=your_llm_pipeline.tokenizer.eos_token_id\n",
    "            )\n",
    "            \n",
    "            if result and len(result) > 0:\n",
    "                response = result[0]['generated_text'].strip().upper()\n",
    "                print(f\"🤖 LLM Image Classification result: {response}\")\n",
    "                \n",
    "                is_agriculture = \"YES\" in response or \"AGRICULTURE\" in response or \"FARMING\" in response\n",
    "                print(f\"✅ Final image classification: {is_agriculture}\")\n",
    "                return is_agriculture\n",
    "                        \n",
    "        except Exception as e:\n",
    "            print(f\"❌ LLM image classification error: {e}\")\n",
    "            return True  # Default to allowing\n",
    "        \n",
    "        return True\n",
    "        \n",
    "    except Exception as e:\n",
    "        print(f\"❌ Image classification error: {e}\")\n",
    "        return True\n",
    "\n",
    "def load_vectorstore(index_path):\n",
    "    \"\"\"Load FAISS vectorstore with optimizations\"\"\"\n",
    "    try:\n",
    "        embedder = HuggingFaceEmbeddings(\n",
    "            model_name=\"sentence-transformers/all-MiniLM-L6-v2\",\n",
    "            model_kwargs={'device': 'cuda:0'}  # Force embeddings to GPU\n",
    "        )\n",
    "        vectorstore = FAISS.load_local(index_path, embedder, allow_dangerous_deserialization=True)\n",
    "        print(\"✅ FAISS vectorstore loaded with GPU embeddings\")\n",
    "        return vectorstore\n",
    "    except Exception as e:\n",
    "        print(f\"Error loading vectorstore: {e}\")\n",
    "        return None\n",
    "\n",
    "def build_qa_chain(vectorstore):\n",
    "    \"\"\"Build OPTIMIZED QA chain\"\"\"\n",
    "    global your_llm_pipeline\n",
    "    \n",
    "    try:\n",
    "        # OPTIMIZATION: Use smaller Mistral model or consider alternatives\n",
    "        model_id = \"mistralai/Mistral-7B-Instruct-v0.2\"\n",
    "        \n",
    "        tokenizer = AutoTokenizer.from_pretrained(model_id)\n",
    "        tokenizer.pad_token = tokenizer.eos_token\n",
    "        \n",
    "        print(\"Loading Mistral model with optimizations...\")\n",
    "        model = AutoModelForCausalLM.from_pretrained(\n",
    "            model_id,\n",
    "            torch_dtype=torch.float16,\n",
    "            device_map=\"cuda:0\",\n",
    "            trust_remote_code=True,\n",
    "            low_cpu_mem_usage=True,\n",
    "            use_cache=True  # Enable KV cache for faster generation\n",
    "        ).eval()\n",
    "        \n",
    "        # OPTIMIZATION: Faster pipeline settings\n",
    "        pipe = pipeline(\n",
    "            \"text-generation\",\n",
    "            model=model,\n",
    "            tokenizer=tokenizer,\n",
    "            max_new_tokens=256,    # Reduced from 512\n",
    "            temperature=0.1,       # Lower temperature for faster, more focused responses\n",
    "            do_sample=False,       # Disable sampling for speed\n",
    "            return_full_text=False,\n",
    "            pad_token_id=tokenizer.eos_token_id,\n",
    "            batch_size=1\n",
    "        )\n",
    "        \n",
    "        your_llm_pipeline = pipe\n",
    "        llm = HuggingFacePipeline(pipeline=pipe)\n",
    "        \n",
    "        # OPTIMIZATION: Reduce retrieval count\n",
    "        retriever = vectorstore.as_retriever(search_type=\"similarity\", k=2)  # Reduced from 4\n",
    "        \n",
    "        return RetrievalQA.from_chain_type(llm=llm, retriever=retriever)\n",
    "    \n",
    "    except Exception as e:\n",
    "        print(f\"Error building QA chain: {e}\")\n",
    "        return None\n",
    "\n",
    "def initialize_system():\n",
    "    \"\"\"Initialize the optimized system\"\"\"\n",
    "    global qa_chain\n",
    "    \n",
    "    try:\n",
    "        cleanup_memory()  # Start with clean memory\n",
    "        \n",
    "        print(\"Initializing speech recognition...\")\n",
    "        speech_success = initialize_speech_recognition()\n",
    "        if not speech_success:\n",
    "            print(\"Warning: Speech recognition initialization failed\")\n",
    "        \n",
    "        print(\"Initializing optimized image models...\")\n",
    "        image_success = initialize_image_models()\n",
    "        if not image_success:\n",
    "            print(\"Warning: Image models failed to load\")\n",
    "        \n",
    "        print(\"Initializing LLM-based classifier...\")\n",
    "        classifier_success = initialize_classifier()\n",
    "        \n",
    "        if not os.path.exists(INDEX_PATH):\n",
    "            return \"Error: FAISS index not found\"\n",
    "            \n",
    "        print(\"Loading optimized FAISS index...\")\n",
    "        vectordb = load_vectorstore(INDEX_PATH)\n",
    "        \n",
    "        if vectordb is None:\n",
    "            return \"Error: Failed to load FAISS index\"\n",
    "        \n",
    "        print(\"Loading optimized Mistral model...\")\n",
    "        qa_chain = build_qa_chain(vectordb)\n",
    "        \n",
    "        if qa_chain is None:\n",
    "            return \"Error: Failed to build QA chain\"\n",
    "        \n",
    "        cleanup_memory()  # Clean up after initialization\n",
    "        \n",
    "        return \"🚀 OPTIMIZED System ready! Speech recognition, image analysis, conversational memory, interactive responses, and multilingual support initialized.\"\n",
    "            \n",
    "    except Exception as e:\n",
    "        return f\"Error initializing system: {str(e)}\"\n",
    "\n",
    "def review_and_refine_answer(initial_answer, original_question, image_context=\"\", conversation_context=\"\"):\n",
    "    \"\"\"Review and refine the initial answer using Mistral 7B - MODIFIED to include conversation context\"\"\"\n",
    "    global your_llm_pipeline\n",
    "    \n",
    "    if your_llm_pipeline is None:\n",
    "        print(\"Warning: Mistral model not available for review, returning original answer\")\n",
    "        return initial_answer\n",
    "    \n",
    "    try:\n",
    "        # Create a comprehensive review prompt - MODIFIED to include conversation context\n",
    "        review_prompt = f\"\"\"<s>[INST] You are an expert agricultural consultant reviewing an AI-generated answer for accuracy, completeness, and clarity.\n",
    "\n",
    "{conversation_context}\n",
    "\n",
    "Original Question: \"{original_question}\"\n",
    "{f\"Image Context: {image_context}\" if image_context else \"\"}\n",
    "\n",
    "Initial AI Answer:\n",
    "{initial_answer}\n",
    "\n",
    "Your task is to review this answer and improve it by:\n",
    "\n",
    "1. *ACCURACY CHECK*: Verify all agricultural/botanical facts are correct\n",
    "2. *COMPLETENESS*: Add any important missing information\n",
    "3. *CLARITY*: Make the explanation clearer and more structured\n",
    "4. *PRACTICAL VALUE*: Include actionable advice when appropriate\n",
    "5. *SAFETY*: Ensure recommendations are safe and environmentally sound\n",
    "6. *CONTEXT AWARENESS*: Consider the conversation history when refining the answer\n",
    "\n",
    "Guidelines for review:\n",
    "- If the answer is factually incorrect, correct it\n",
    "- If important information is missing, add it\n",
    "- If the answer is unclear, restructure it\n",
    "- If there are contradictions, resolve them\n",
    "- If the answer seems incomplete, expand it appropriately\n",
    "- Keep the tone professional but accessible\n",
    "- Focus on practical, actionable information\n",
    "- If this question relates to previous conversation, acknowledge that connection\n",
    "\n",
    "Provide the REVISED AND IMPROVED answer: [/INST]\"\"\"\n",
    "\n",
    "        print(\"🔍 Reviewing and refining the initial answer...\")\n",
    "        \n",
    "        # Get refined answer from Mistral\n",
    "        refined_result = your_llm_pipeline(\n",
    "            review_prompt,\n",
    "            max_new_tokens=400,  # Allow more tokens for comprehensive review\n",
    "            temperature=0.2,     # Slightly higher for more natural refinement\n",
    "            do_sample=False,\n",
    "            return_full_text=False\n",
    "        )\n",
    "        \n",
    "        if refined_result and len(refined_result) > 0:\n",
    "            refined_answer = refined_result[0]['generated_text'].strip()\n",
    "            \n",
    "            # Basic quality check on refined answer\n",
    "            if len(refined_answer) > 50 and len(refined_answer) < 3000:  # Reasonable length\n",
    "                print(\"✅ Answer successfully reviewed and refined\")\n",
    "                return refined_answer\n",
    "            else:\n",
    "                print(\"⚠ Refined answer seems problematic, using original\")\n",
    "                return initial_answer\n",
    "        else:\n",
    "            print(\"⚠ Review process failed, using original answer\")\n",
    "            return initial_answer\n",
    "            \n",
    "    except Exception as e:\n",
    "        print(f\"❌ Error in review process: {e}\")\n",
    "        return initial_answer\n",
    "\n",
    "def answer_question(question, image=None):\n",
    "    \"\"\"OPTIMIZED answer function with PURE LLM-based classification, conversation history, interactive responses, and MULTILINGUAL support\"\"\"\n",
    "    global qa_chain\n",
    "    \n",
    "    if qa_chain is None:\n",
    "        return \"❌ System not initialized\"\n",
    "    \n",
    "    if not question.strip() and image is None:\n",
    "        return \"❓ Please enter a question or upload an image\"\n",
    "        \n",
    "    try:\n",
    "        question_text = question.strip()\n",
    "        original_lang = \"en\"  # Default language\n",
    "        english_question = question_text\n",
    "        \n",
    "        # NEW: Language detection and translation\n",
    "        if question_text:\n",
    "            english_question, original_lang = translate_to_english(question_text)\n",
    "            if original_lang != \"en\":\n",
    "                print(f\"🌍 Detected language: {original_lang}, translated to English for processing\")\n",
    "        \n",
    "        # NEW: Check for interactive/greeting inputs first (use English version for consistency)\n",
    "        if english_question and is_interactive_input(english_question):\n",
    "            print(\"🎯 Interactive input detected\")\n",
    "            interactive_response = generate_interactive_response(english_question)\n",
    "            \n",
    "            # NEW: Translate interactive response back to original language\n",
    "            if original_lang != \"en\":\n",
    "                interactive_response = translate_from_english(interactive_response, original_lang)\n",
    "                print(f\"🌍 Interactive response translated back to {original_lang}\")\n",
    "            \n",
    "            # Add to conversation history\n",
    "            add_to_history(question_text, interactive_response, \"\", original_lang)\n",
    "            return interactive_response\n",
    "        \n",
    "        # Fast image analysis\n",
    "        image_caption = \"\"\n",
    "        classification_label = \"\"\n",
    "        if image is not None:\n",
    "            image_caption, classification_label = analyze_uploaded_image(image)\n",
    "\n",
    "        # NEW: Check if question relates to conversation history\n",
    "        relates_to_history, history_context = relates_to_conversation_history(english_question)\n",
    "        conversation_context = get_conversation_context()\n",
    "        \n",
    "        print(f\"🔗 Relates to conversation history: {relates_to_history}\")\n",
    "        \n",
    "        # PURE LLM-BASED CLASSIFICATION - No rule-based fallbacks\n",
    "        is_agriculture = False\n",
    "        \n",
    "        if image is not None:\n",
    "            print(\"🖼 Image uploaded - using PURE LLM-based classification\")\n",
    "            \n",
    "            # Use LLM to classify image content\n",
    "            image_is_agriculture = classify_image_with_llm(image_caption, classification_label)\n",
    "            print(f\"🤖 LLM Image classification: {image_is_agriculture}\")\n",
    "            \n",
    "            if english_question:\n",
    "                # Use LLM to classify the question (with conversation context)\n",
    "                question_is_agriculture = classify_question_with_llm(english_question, conversation_context)\n",
    "                print(f\"🤖 LLM Question classification: {question_is_agriculture}\")\n",
    "                \n",
    "                # Allow if EITHER question OR image is agriculture-related (OR logic)\n",
    "                if question_is_agriculture or image_is_agriculture:\n",
    "                    is_agriculture = True\n",
    "                    if question_is_agriculture and image_is_agriculture:\n",
    "                        print(\"✅ LLM Decision: Both question and image are agriculture-related\")\n",
    "                    elif question_is_agriculture and not image_is_agriculture:\n",
    "                        print(\"✅ LLM Decision: Question is agriculture-related (image is not)\")\n",
    "                    elif not question_is_agriculture and image_is_agriculture:\n",
    "                        print(\"✅ LLM Decision: Image is agriculture-related (question is not)\")\n",
    "                else:\n",
    "                    is_agriculture = False\n",
    "                    print(\"❌ LLM Decision: Neither question nor image is agriculture-related\")\n",
    "            else:\n",
    "                # No question provided, just check image with LLM\n",
    "                if image_is_agriculture:\n",
    "                    is_agriculture = True\n",
    "                    print(\"✅ LLM Decision: No question provided but image is agriculture-related\")\n",
    "                else:\n",
    "                    is_agriculture = False\n",
    "                    print(\"❌ LLM Decision: No question provided and image is not agriculture-related\")\n",
    "                \n",
    "        else:\n",
    "            # No image, just classify the question with LLM (including conversation context)\n",
    "            is_agriculture = classify_question_with_llm(english_question, conversation_context)\n",
    "            print(f\"🤖 LLM Text-only classification: {is_agriculture}\")\n",
    "\n",
    "        if not is_agriculture:\n",
    "            non_agriculture_response = \"\"\"🚫 *Agriculture Classification Result*:\n",
    "\n",
    "Based on my AI analysis, your question/image doesn't appear to be related to agriculture, farming, crops, or livestock.\n",
    "\n",
    "I'm specifically designed to help with agriculture-related topics such as:\n",
    "- Crop cultivation and management\n",
    "- Soil health and fertilization  \n",
    "- Irrigation and water management\n",
    "- Pest and disease control\n",
    "- Livestock care and management\n",
    "- Organic farming practices\n",
    "- Agricultural equipment and techniques\n",
    "- Plant biology and botany\n",
    "- Agricultural economics and planning\n",
    "\n",
    "Please ask a question related to agriculture or upload an agriculture-related image, and I'll be happy to help! 🌱\"\"\"\n",
    "            \n",
    "            # NEW: Translate non-agriculture response back to original language\n",
    "            if original_lang != \"en\":\n",
    "                non_agriculture_response = translate_from_english(non_agriculture_response, original_lang)\n",
    "                print(f\"🌍 Non-agriculture response translated back to {original_lang}\")\n",
    "            \n",
    "            # Add to conversation history even for non-agriculture responses\n",
    "            add_to_history(question_text, non_agriculture_response, \n",
    "                         f\"{image_caption} - {classification_label}\" if image else \"\", original_lang)\n",
    "            return non_agriculture_response\n",
    "        \n",
    "        # Combine context for RAG (use English for RAG processing)\n",
    "        full_context = \"\"\n",
    "        if image_caption or classification_label:\n",
    "            full_context += f\"Image: {image_caption}\\nIssue: {classification_label}\\n\"\n",
    "        \n",
    "        # NEW: Add conversation context if available\n",
    "        if relates_to_history:\n",
    "            full_context += f\"Previous context: {history_context}\\n\"\n",
    "        \n",
    "        full_context += f\"Question: {english_question}\"\n",
    "        \n",
    "        print(\"🤖 Generating initial answer from RAG system...\")\n",
    "        \n",
    "        # STEP 1: Get initial RAG response (in English)\n",
    "        initial_result = qa_chain.run(full_context)\n",
    "        \n",
    "        print(\"🔍 Reviewing and refining the answer...\")\n",
    "        \n",
    "        # STEP 2: Review and refine the answer (in English)\n",
    "        image_context = \"\"\n",
    "        if image_caption or classification_label:\n",
    "            image_context = f\"Image shows: {image_caption}. Analysis: {classification_label}\"\n",
    "        \n",
    "        final_result = review_and_refine_answer(\n",
    "            initial_answer=initial_result,\n",
    "            original_question=english_question,\n",
    "            image_context=image_context,\n",
    "            conversation_context=conversation_context\n",
    "        )\n",
    "        \n",
    "        # NEW: Clean and translate final answer back to original language\n",
    "        cleaned_result = clean_answer(final_result)\n",
    "        \n",
    "        if original_lang != \"en\":\n",
    "            cleaned_result = translate_from_english(cleaned_result, original_lang)\n",
    "            print(f\"🌍 Final answer translated back to {original_lang}\")\n",
    "        \n",
    "        # NEW: Add to conversation history with original language info\n",
    "        add_to_history(question_text, cleaned_result, image_context, original_lang)\n",
    "        \n",
    "        # Cleanup after each query\n",
    "        cleanup_memory()\n",
    "        \n",
    "        return f\"*LLM-Classified Agriculture Answer* ({original_lang.upper()}):\\n\\n{cleaned_result}\"\n",
    "            \n",
    "    except Exception as e:\n",
    "        cleanup_memory()\n",
    "        error_response = f\"❌ Error: {str(e)}\"\n",
    "        \n",
    "        # NEW: Translate error response if needed\n",
    "        if 'original_lang' in locals() and original_lang != \"en\":\n",
    "            error_response = translate_from_english(error_response, original_lang)\n",
    "        \n",
    "        # Add error to history too\n",
    "        if 'question_text' in locals():\n",
    "            add_to_history(question_text, error_response, \"\", original_lang if 'original_lang' in locals() else \"en\")\n",
    "        return error_response\n",
    "\n",
    "# NEW: Function to clear conversation history\n",
    "def clear_conversation_history():\n",
    "    \"\"\"Clear the conversation history\"\"\"\n",
    "    global conversation_history\n",
    "    conversation_history = []\n",
    "    return \"🗑 Conversation history cleared! Starting fresh.\"\n",
    "\n",
    "# Initialize optimized system\n",
    "print(\"🚀 Initializing OPTIMIZED AgroRAG system with PURE LLM Classification, Conversational Memory, and Multilingual Support...\")\n",
    "init_status = initialize_system()\n",
    "print(init_status)\n",
    "\n",
    "# Streamlined Gradio interface for speed - MODIFIED to include multilingual support and conversation history management\n",
    "with gr.Blocks(title=\"🚀 Fast AgroRAG Assistant - Pure LLM Classification + Memory + Multilingual\") as demo:\n",
    "    gr.Markdown(\"\"\"\n",
    "    # 🚀 Fast AgroRAG Assistant (Pure LLM Classification + Memory + 🌍 Multilingual)\n",
    "    \n",
    "    *New Features:*\n",
    "    - 🎤 Speech Recognition using speech_recognition library\n",
    "    - 🖼 Optimized image processing with resizing\n",
    "    - 🧠 *PURE LLM-BASED CLASSIFICATION* (No keyword rules - everything decided by AI)\n",
    "    - ⚡ Flexible classification (allows if EITHER question OR image is agriculture-related)\n",
    "    - 🔧 GPU memory management and cleanup\n",
    "    - 💭 *SESSION-BASED CONVERSATIONAL MEMORY* (Remembers previous exchanges!)\n",
    "    - 🤖 *INTERACTIVE RESPONSES* (Responds to greetings and casual conversation)\n",
    "    - 🌍 **MULTILINGUAL SUPPORT** (Ask questions in any language - auto-detected and translated!)\n",
    "    \n",
    "    ## 🌍 Multilingual Features:\n",
    "    - **Auto Language Detection**: Automatically detects your language\n",
    "    - **Real-time Translation**: Questions translated to English for processing, answers translated back\n",
    "    - **Supported Languages**: Spanish, French, German, Hindi, Chinese, Arabic, Portuguese, and many more!\n",
    "    - **Conversation Memory**: Remembers conversations in your original language\n",
    "    \n",
    "    ## New Interactive Features:\n",
    "    - Say \"Hi\", \"Hello\", \"Good morning\" in any language for friendly greetings\n",
    "    - Ask \"How are you?\" or \"What can you do?\" in your preferred language\n",
    "    - Use follow-up questions like \"Tell me more about this\" or \"Can you explain further?\"\n",
    "    - The bot remembers your conversation and can reference previous topics!\n",
    "    \n",
    "    ## Sample Questions to Try (in any language):\n",
    "    - English: \"What are the symptoms of tomato blight disease?\"\n",
    "    - Spanish: \"¿Cuáles son los síntomas de la enfermedad del tizón del tomate?\"\n",
    "    - French: \"Quels sont les symptômes de la maladie du mildiou de la tomate?\"\n",
    "    - Hindi: \"टमाटर की झुलसा रोग के लक्षण क्या हैं?\"\n",
    "    - German: \"Was sind die Symptome der Tomatenfäule?\"\n",
    "    \n",
    "    *Note:* All classification decisions are made by the Mistral 7B LLM with conversation and multilingual awareness!\n",
    "    \"\"\")\n",
    "    \n",
    "    # NEW: Add conversation history display and clear button\n",
    "    with gr.Row():\n",
    "        with gr.Column(scale=3):\n",
    "            pass  # Empty space for layout\n",
    "        with gr.Column(scale=1):\n",
    "            clear_history_btn = gr.Button(\"🗑 Clear History\", variant=\"secondary\")\n",
    "    \n",
    "    with gr.Tab(\"🎤 Voice + Image + 🌍 Multilingual\"):        \n",
    "        with gr.Row():\n",
    "            with gr.Column():\n",
    "                audio_input = gr.Audio(label=\"🎤 Record Question (Any Language)\", type=\"numpy\")\n",
    "                transcription_output = gr.Textbox(label=\"📝 Transcribed Text\", lines=2, interactive=True)\n",
    "                image_input_voice = gr.Image(label=\"📸 Upload Image (optional)\", type=\"pil\")\n",
    "                submit_button = gr.Button(\"🚀 Get Answer\", variant=\"primary\")\n",
    "            \n",
    "            with gr.Column():\n",
    "                answer_output = gr.Textbox(label=\"🌾 Answer\", lines=8)\n",
    "        \n",
    "        def transcribe_only(audio):\n",
    "            return transcribe_audio(audio) if audio else \"\"\n",
    "        \n",
    "        def get_answer(question_text, image):\n",
    "            return answer_question(question_text, image)\n",
    "        \n",
    "        audio_input.change(fn=transcribe_only, inputs=[audio_input], outputs=[transcription_output])\n",
    "        submit_button.click(fn=get_answer, inputs=[transcription_output, image_input_voice], outputs=[answer_output])\n",
    "    \n",
    "    with gr.Tab(\"📝 Text + Image + 🌍 Multilingual\"):\n",
    "        with gr.Row():\n",
    "            with gr.Column():\n",
    "                text_input = gr.Textbox(\n",
    "                    label=\"Ask about Agriculture in ANY Language! (Auto-detected)\", \n",
    "                    placeholder=\"¡Hola! / Bonjour! / नमस्ते! / What disease is this? / Tell me more about organic farming\", \n",
    "                    lines=2\n",
    "                )\n",
    "                \n",
    "                # Sample questions buttons - MODIFIED to include multilingual examples\n",
    "                gr.Markdown(\"*Quick Sample Questions (Multiple Languages):*\")\n",
    "                with gr.Row():\n",
    "                    sample_btn1 = gr.Button(\"👋 Hi there! (EN)\", size=\"sm\")\n",
    "                    sample_btn2 = gr.Button(\"🌱 ¿Rotación de cultivos? (ES)\", size=\"sm\")\n",
    "                    sample_btn3 = gr.Button(\"💧 सिंचाई तकनीक? (HI)\", size=\"sm\")\n",
    "                \n",
    "                image_input = gr.Image(label=\"📸 Upload Plant Image\", type=\"pil\")\n",
    "                submit_text_button = gr.Button(\"🚀 Get Answer\", variant=\"primary\")\n",
    "            \n",
    "            with gr.Column():\n",
    "                text_output = gr.Textbox(label=\"🌾 Answer\", lines=8)\n",
    "        \n",
    "        # NEW: Functions for multilingual sample buttons\n",
    "        def set_sample_text1():\n",
    "            return \"Hi there! How are you?\"\n",
    "        \n",
    "        def set_sample_text2():\n",
    "            return \"¿Qué es la rotación de cultivos y cómo ayuda?\"\n",
    "        \n",
    "        def set_sample_text3():\n",
    "            return \"सब्जियों के लिए सबसे अच्छी सिंचाई तकनीक क्या हैं?\"\n",
    "        \n",
    "        # NEW: Connect sample buttons\n",
    "        sample_btn1.click(fn=set_sample_text1, outputs=[text_input])\n",
    "        sample_btn2.click(fn=set_sample_text2, outputs=[text_input])\n",
    "        sample_btn3.click(fn=set_sample_text3, outputs=[text_input])\n",
    "        \n",
    "        # Add the click event handler for the text submit button\n",
    "        submit_text_button.click(\n",
    "            fn=answer_question, \n",
    "            inputs=[text_input, image_input], \n",
    "            outputs=[text_output]\n",
    "        )\n",
    "        \n",
    "        # Examples section - MODIFIED to include multilingual examples\n",
    "        examples = gr.Examples(\n",
    "            examples=[\n",
    "                [\"Hello! How can you help me? 🇺🇸\"],\n",
    "                [\"¿Qué es la rotación de cultivos? 🇪🇸\"],\n",
    "                [\"Comment fonctionne l'agriculture biologique? 🇫🇷\"],\n",
    "                [\"जैविक खेती के क्या फायदे हैं? 🇮🇳\"],\n",
    "                [\"Was sind die Vorteile der Tröpfchenbewässerung? 🇩🇪\"],\n",
    "                [\"Qual é a importância do pH do solo? 🇧🇷\"],\n",
    "                [\"谢谢你的帮助! 🇨🇳\"],\n",
    "                [\"Can you tell me more about this? 🇺🇸\"],  # Follow-up example\n",
    "            ],\n",
    "            inputs=[text_input]\n",
    "        )\n",
    "    \n",
    "    with gr.Tab(\"📊 Conversation History + 🌍 Languages\"):\n",
    "        gr.Markdown(\"\"\"\n",
    "        ## 💭 Your Multilingual Conversation with AgroRAG\n",
    "        \n",
    "        This tab shows your recent conversation history in all languages. The bot remembers your previous questions and can reference them in follow-up questions.\n",
    "        \n",
    "        *Tips for using multilingual conversational memory:*\n",
    "        - After asking about a topic in any language, you can say \"Tell me more about this\" in the same or different language\n",
    "        - Use phrases like \"Can you explain that further?\" in your preferred language\n",
    "        - The bot will understand what \"this\" and \"that\" refer to based on previous conversation\n",
    "        - Switch languages anytime - the bot maintains context across languages!\n",
    "        \n",
    "        **Language Coverage**: English, Spanish, French, German, Hindi, Chinese, Arabic, Portuguese, Italian, Russian, Japanese, Korean, and many more!\n",
    "        \"\"\")\n",
    "        \n",
    "        history_display = gr.JSON(\n",
    "            label=\"Recent Multilingual Conversations\",\n",
    "            value=lambda: conversation_history[-5:] if conversation_history else []  # Show last 5\n",
    "        )\n",
    "        \n",
    "        refresh_history_btn = gr.Button(\"🔄 Refresh History\", variant=\"secondary\")\n",
    "        \n",
    "        def refresh_history():\n",
    "            return conversation_history[-5:] if conversation_history else []\n",
    "        \n",
    "        refresh_history_btn.click(fn=refresh_history, outputs=[history_display])\n",
    "    \n",
    "    # NEW: Connect clear history button\n",
    "    clear_history_btn.click(fn=clear_conversation_history, outputs=[])\n",
    "        \n",
    "\n",
    "if __name__ == \"__main__\":\n",
    "    # Install required packages if not available\n",
    "    try:\n",
    "        import speech_recognition as sr\n",
    "    except ImportError:\n",
    "        os.system(\"pip install SpeechRecognition\")\n",
    "        import speech_recognition as sr\n",
    "    \n",
    "    try:\n",
    "        import pocketsphinx\n",
    "    except ImportError:\n",
    "        os.system(\"pip install pocketsphinx\")\n",
    "    \n",
    "    # NEW: Install multilingual packages\n",
    "    try:\n",
    "        from deep_translator import GoogleTranslator\n",
    "    except ImportError:\n",
    "        os.system(\"pip install deep-translator\")\n",
    "        from deep_translator import GoogleTranslator\n",
    "    \n",
    "    try:\n",
    "        from langdetect import detect\n",
    "    except ImportError:\n",
    "        os.system(\"pip install langdetect\")\n",
    "        from langdetect import detect\n",
    "    \n",
    "    try:\n",
    "        demo.launch(share=True, server_name=\"0.0.0.0\")\n",
    "    except OSError as e:\n",
    "        if \"Cannot find empty port\" in str(e):\n",
    "            demo.launch(share=True)\n",
    "        else:\n",
    "            raise e"
   ]
  },
  {
   "cell_type": "code",
   "execution_count": null,
   "metadata": {
    "trusted": true
   },
   "outputs": [],
   "source": []
  }
 ],
 "metadata": {
  "kaggle": {
   "accelerator": "gpu",
   "dataSources": [
    {
     "datasetId": 7956112,
     "sourceId": 12596615,
     "sourceType": "datasetVersion"
    }
   ],
   "dockerImageVersionId": 31090,
   "isGpuEnabled": true,
   "isInternetEnabled": true,
   "language": "python",
   "sourceType": "notebook"
  },
  "kernelspec": {
   "display_name": "Python 3",
   "language": "python",
   "name": "python3"
  },
  "language_info": {
   "codemirror_mode": {
    "name": "ipython",
    "version": 3
   },
   "file_extension": ".py",
   "mimetype": "text/x-python",
   "name": "python",
   "nbconvert_exporter": "python",
   "pygments_lexer": "ipython3",
   "version": "3.11.13"
  }
 },
 "nbformat": 4,
 "nbformat_minor": 4
}
